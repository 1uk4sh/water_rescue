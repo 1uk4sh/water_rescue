{
 "cells": [
  {
   "cell_type": "code",
   "execution_count": 1,
   "id": "initial_id",
   "metadata": {
    "collapsed": true,
    "ExecuteTime": {
     "end_time": "2024-01-12T14:57:51.248664Z",
     "start_time": "2024-01-12T14:57:51.220585Z"
    }
   },
   "outputs": [],
   "source": []
  },
  {
   "cell_type": "code",
   "execution_count": 8,
   "outputs": [],
   "source": [
    "\n",
    "WATER_DATA = {\n",
    "    50: 0.95,\n",
    "    75: 1.25,\n",
    "    100: 1.45,\n",
    "    125: 1.61,\n",
    "    150: 1.74,\n",
    "    175: 1.86,\n",
    "    200: 1.96,\n",
    "    225: 2.06,\n",
    "    250: 2.14,\n",
    "    275: 2.22,\n",
    "    300: 2.3,\n",
    "    325: 2.37,\n",
    "    350: 2.43\n",
    "}\n",
    "\n",
    "def get_next_level(target_level: int):\n",
    "    for level in WATER_DATA.keys():\n",
    "        if target_level < level:\n",
    "            return level\n",
    "        \n",
    "        \n",
    "def get_distance(time: int, level: int):\n",
    "    \"\"\"\n",
    "    Returns distance in meters.\n",
    "    \n",
    "    :param time: in seconds\n",
    "    :param level: in cm\n",
    "    \"\"\"\n",
    "    if level not in WATER_DATA.keys():\n",
    "        level = get_next_level(target_level=level)\n",
    "        \n",
    "    return WATER_DATA[level] * time"
   ],
   "metadata": {
    "collapsed": false,
    "ExecuteTime": {
     "end_time": "2024-01-12T15:14:28.053338Z",
     "start_time": "2024-01-12T15:14:28.037263Z"
    }
   },
   "id": "b76d0c9e9d09fae4"
  },
  {
   "cell_type": "code",
   "execution_count": 8,
   "outputs": [],
   "source": [],
   "metadata": {
    "collapsed": false,
    "ExecuteTime": {
     "end_time": "2024-01-12T15:14:30.525923Z",
     "start_time": "2024-01-12T15:14:30.512425Z"
    }
   },
   "id": "a99afc7f310f3fc0"
  },
  {
   "cell_type": "code",
   "execution_count": 9,
   "outputs": [
    {
     "data": {
      "text/plain": "100"
     },
     "execution_count": 9,
     "metadata": {},
     "output_type": "execute_result"
    }
   ],
   "source": [
    "get_next_level(80)"
   ],
   "metadata": {
    "collapsed": false,
    "ExecuteTime": {
     "end_time": "2024-01-12T15:14:38.199838Z",
     "start_time": "2024-01-12T15:14:38.189266Z"
    }
   },
   "id": "908f19025d6337bf"
  },
  {
   "cell_type": "code",
   "execution_count": 15,
   "outputs": [],
   "source": [
    "import json\n",
    "\n",
    "with open(\"isar.json\", \"r\") as file:\n",
    "    isar_polygon = json.load(file)"
   ],
   "metadata": {
    "collapsed": false,
    "ExecuteTime": {
     "end_time": "2024-01-12T15:30:09.050694Z",
     "start_time": "2024-01-12T15:30:09.036151Z"
    }
   },
   "id": "da332f0c2d5cd848"
  },
  {
   "cell_type": "code",
   "execution_count": 16,
   "outputs": [
    {
     "data": {
      "text/plain": "{'coordinates': [[11.585179526948508, 48.1323623295315],\n  [11.585803127646756, 48.1320246739493],\n  [11.588520725951184, 48.13481161038135],\n  [11.590575495401794, 48.137045474015764],\n  [11.592630179689564, 48.13837245424466],\n  [11.59521521222419, 48.14058404750094],\n  [11.59673816524537, 48.14474158489773],\n  [11.597130409398119, 48.14755020184302],\n  [11.611370908678111, 48.16231854228997],\n  [11.609946858750448, 48.16283665248403],\n  [11.596746166989817, 48.14799449871316],\n  [11.593598029276961, 48.13959317928672],\n  [11.590051345425707, 48.137200348940894],\n  [11.585179526948508, 48.1323623295315]]}"
     },
     "execution_count": 16,
     "metadata": {},
     "output_type": "execute_result"
    }
   ],
   "source": [
    "isar_polygon"
   ],
   "metadata": {
    "collapsed": false,
    "ExecuteTime": {
     "end_time": "2024-01-12T15:30:09.190235Z",
     "start_time": "2024-01-12T15:30:09.176814Z"
    }
   },
   "id": "1cf4c503989843a"
  },
  {
   "cell_type": "code",
   "execution_count": 27,
   "outputs": [],
   "source": [],
   "metadata": {
    "collapsed": false,
    "ExecuteTime": {
     "end_time": "2024-01-12T15:43:48.931202Z",
     "start_time": "2024-01-12T15:43:48.921543Z"
    }
   },
   "id": "d2fd85a66a063b54"
  },
  {
   "cell_type": "code",
   "execution_count": 55,
   "outputs": [],
   "source": [
    "import folium\n",
    "\n",
    "# Beispiel-Koordinaten für ein Overlay\n",
    "overlay_coordinates =  [(48.1323623295315, 11.585179526948508),\n",
    " (48.1320246739493, 11.585803127646756),\n",
    " (48.13481161038135, 11.588520725951184),\n",
    " (48.137045474015764, 11.590575495401794),\n",
    " (48.13837245424466, 11.592630179689564),\n",
    " (48.14058404750094, 11.59521521222419),\n",
    " (48.14474158489773, 11.59673816524537),\n",
    " (48.14755020184302, 11.597130409398119),\n",
    " (48.16231854228997, 11.611370908678111),\n",
    " (48.16283665248403, 11.609946858750448),\n",
    " (48.14799449871316, 11.596746166989817),\n",
    " (48.13959317928672, 11.593598029276961),\n",
    " (48.137200348940894, 11.590051345425707),\n",
    " (48.1323623295315, 11.585179526948508)]\n",
    "\n",
    "# Mittelpunkt der Karte\n",
    "center = [48.137400361036555, 11.57670136034838]\n",
    "\n",
    "# Karte erstellen\n",
    "m = folium.Map(location=center, zoom_start=8)\n",
    "\n",
    "# Overlay als Polygon hinzufügen\n",
    "folium.Polygon(locations=overlay_coordinates, color='red', fill=True, fill_color='red', fill_opacity=0.5).add_to(m)\n",
    "\n",
    "# Karte anzeigen\n",
    "m.save('overlay_map.html')\n"
   ],
   "metadata": {
    "collapsed": false,
    "ExecuteTime": {
     "end_time": "2024-01-12T16:12:49.894629Z",
     "start_time": "2024-01-12T16:12:49.869752Z"
    }
   },
   "id": "d06f2ea2d0738bcc"
  },
  {
   "cell_type": "code",
   "execution_count": 27,
   "outputs": [],
   "source": [
    "test = []\n",
    "\n",
    "\n",
    "coords = [\n",
    "     [\n",
    "            11.579115532906826,\n",
    "            48.12866391515209\n",
    "          ],\n",
    "          [\n",
    "            11.579304182296198,\n",
    "            48.12874450129121\n",
    "          ],\n",
    "          [\n",
    "            11.57950792363576,\n",
    "            48.12885530702604\n",
    "          ],\n",
    "          [\n",
    "            11.5798248546092,\n",
    "            48.1289711491296\n",
    "          ],\n",
    "          [\n",
    "            11.580096509728605,\n",
    "            48.12911217394705\n",
    "          ],\n",
    "          [\n",
    "            11.580285159117949,\n",
    "            48.12920283255335\n",
    "          ],\n",
    "          [\n",
    "            11.580503992408609,\n",
    "            48.12932371044619\n",
    "          ],\n",
    "          [\n",
    "            11.580692641797071,\n",
    "            48.12941940524348\n",
    "          ],\n",
    "          [\n",
    "            11.58085865325981,\n",
    "            48.12952517296921\n",
    "          ],\n",
    "          [\n",
    "            11.581100124477047,\n",
    "            48.12965108664446\n",
    "          ],\n",
    "          [\n",
    "            11.58128877386551,\n",
    "            48.12973670776722\n",
    "          ],\n",
    "          [\n",
    "            11.58146987727929,\n",
    "            48.129842474840075\n",
    "          ],\n",
    "          [\n",
    "            11.581620796790077,\n",
    "            48.12994320518254\n",
    "          ],\n",
    "          [\n",
    "            11.581801900203004,\n",
    "            48.130054008331086\n",
    "          ],\n",
    "          [\n",
    "            11.581990549592348,\n",
    "            48.13015977475044\n",
    "          ],\n",
    "          [\n",
    "            11.582149288540307,\n",
    "            48.130235449052634\n",
    "          ],\n",
    "          [\n",
    "            11.582337937928742,\n",
    "            48.130336178624276\n",
    "          ],\n",
    "          [\n",
    "            11.58247376548843,\n",
    "            48.13041172567341\n",
    "          ],\n",
    "          [\n",
    "            11.582617139024592,\n",
    "            48.130497345528596\n",
    "          ],\n",
    "          [\n",
    "            11.582752966584223,\n",
    "            48.13056281943875\n",
    "          ],\n",
    "          [\n",
    "            11.582911432070603,\n",
    "            48.13062829326543\n",
    "          ],\n",
    "          [\n",
    "            11.583069897557777,\n",
    "            48.13071391275898\n",
    "          ],\n",
    "          [\n",
    "            11.583243454995142,\n",
    "            48.13080456853771\n",
    "          ],\n",
    "          [\n",
    "            11.583417012432534,\n",
    "            48.1309002605756\n",
    "          ],\n",
    "          [\n",
    "            11.583590569870836,\n",
    "            48.13099091602538\n",
    "          ],\n",
    "          [\n",
    "            11.583771673283735,\n",
    "            48.1310916441152\n",
    "          ],\n",
    "          [\n",
    "            11.583952776696634,\n",
    "            48.13117222644482\n",
    "          ],\n",
    "          [\n",
    "            11.584126334134993,\n",
    "            48.1312628814151\n",
    "          ],\n",
    "          [\n",
    "            11.584262161694625,\n",
    "            48.1313384271009\n",
    "          ],\n",
    "          [\n",
    "            11.584382897303243,\n",
    "            48.131413972675574\n",
    "          ],\n",
    "          [\n",
    "            11.584541362789594,\n",
    "            48.13148951813909\n",
    "          ],\n",
    "          [\n",
    "            11.58465455242353,\n",
    "            48.13154995443048\n",
    "          ],\n",
    "          [\n",
    "            11.58478283400774,\n",
    "            48.13160535430123\n",
    "          ],\n",
    "          [\n",
    "            11.584956391445075,\n",
    "            48.13169600850628\n",
    "          ],\n",
    "          [\n",
    "            11.585077127053694,\n",
    "            48.131786662551264\n",
    "          ],\n",
    "          [\n",
    "            11.585190316687658,\n",
    "            48.13186724379025\n",
    "          ],\n",
    "          [\n",
    "            11.585341236198417,\n",
    "            48.131962933847944\n",
    "          ],\n",
    "          [\n",
    "            11.585341236198417,\n",
    "            48.13196797016178\n",
    "          ]\n",
    "]\n",
    "\n",
    "for x in coords:\n",
    "    test.append((x[1], x[0]))"
   ],
   "metadata": {
    "collapsed": false,
    "ExecuteTime": {
     "end_time": "2024-01-12T16:58:03.130497Z",
     "start_time": "2024-01-12T16:58:03.118468Z"
    }
   },
   "id": "87edadd420a8452"
  },
  {
   "cell_type": "code",
   "execution_count": 28,
   "outputs": [
    {
     "data": {
      "text/plain": "[(48.12866391515209, 11.579115532906826),\n (48.12874450129121, 11.579304182296198),\n (48.12885530702604, 11.57950792363576),\n (48.1289711491296, 11.5798248546092),\n (48.12911217394705, 11.580096509728605),\n (48.12920283255335, 11.580285159117949),\n (48.12932371044619, 11.580503992408609),\n (48.12941940524348, 11.580692641797071),\n (48.12952517296921, 11.58085865325981),\n (48.12965108664446, 11.581100124477047),\n (48.12973670776722, 11.58128877386551),\n (48.129842474840075, 11.58146987727929),\n (48.12994320518254, 11.581620796790077),\n (48.130054008331086, 11.581801900203004),\n (48.13015977475044, 11.581990549592348),\n (48.130235449052634, 11.582149288540307),\n (48.130336178624276, 11.582337937928742),\n (48.13041172567341, 11.58247376548843),\n (48.130497345528596, 11.582617139024592),\n (48.13056281943875, 11.582752966584223),\n (48.13062829326543, 11.582911432070603),\n (48.13071391275898, 11.583069897557777),\n (48.13080456853771, 11.583243454995142),\n (48.1309002605756, 11.583417012432534),\n (48.13099091602538, 11.583590569870836),\n (48.1310916441152, 11.583771673283735),\n (48.13117222644482, 11.583952776696634),\n (48.1312628814151, 11.584126334134993),\n (48.1313384271009, 11.584262161694625),\n (48.131413972675574, 11.584382897303243),\n (48.13148951813909, 11.584541362789594),\n (48.13154995443048, 11.58465455242353),\n (48.13160535430123, 11.58478283400774),\n (48.13169600850628, 11.584956391445075),\n (48.131786662551264, 11.585077127053694),\n (48.13186724379025, 11.585190316687658),\n (48.131962933847944, 11.585341236198417),\n (48.13196797016178, 11.585341236198417)]"
     },
     "execution_count": 28,
     "metadata": {},
     "output_type": "execute_result"
    }
   ],
   "source": [
    "test"
   ],
   "metadata": {
    "collapsed": false,
    "ExecuteTime": {
     "end_time": "2024-01-12T16:58:04.013650Z",
     "start_time": "2024-01-12T16:58:04.002024Z"
    }
   },
   "id": "c8890576d4552227"
  },
  {
   "cell_type": "code",
   "execution_count": 31,
   "outputs": [
    {
     "name": "stdout",
     "output_type": "stream",
     "text": [
      "27 23\n"
     ]
    }
   ],
   "source": [
    "import folium\n",
    "center = [48.11043185557568, 11.556708643303125]\n",
    "coords = test\n",
    "\n",
    "sichtung = [48.13129617331808, 11.5841440092276]\n",
    "end = [48.12856025477495, 11.578522386020836]\n",
    "\n",
    "from  geopy.distance import geodesic\n",
    "\n",
    "def get_start_index(start_coord):\n",
    "    distances = []\n",
    "    \n",
    "    for coord in coords:\n",
    "        distances.append(geodesic(start_coord, coord).m)\n",
    "        \n",
    "    return distances.index(min(distances))\n",
    "\n",
    "def get_end_index(meters):\n",
    "    distance = 0\n",
    "    for index, value in enumerate(coords):\n",
    "        if distance >= meters:\n",
    "            return index+1\n",
    "        distance += geodesic(coords[index], coords[index+1]).m\n",
    "    \n",
    "start_index = get_start_index(sichtung)\n",
    "end_index = get_end_index(400) - 1\n",
    "\n",
    "print(start_index, end_index)\n",
    "\n",
    "# Karte erstellen\n",
    "m = folium.Map(location=center, zoom_start=14)\n",
    "colors = [i for i in range(len(coords))]\n",
    "colors_2 = [i for i in range(len(coords[end_index:start_index]))]\n",
    "\n",
    "folium.ColorLine(\n",
    "    positions=coords,\n",
    "    colors=colors,\n",
    "    colormap=(\"cyan\", \"cyan\"),\n",
    "    weight=10,\n",
    ").add_to(m)\n",
    "\n",
    "folium.ColorLine(\n",
    "    positions=coords[end_index:start_index],\n",
    "    colors=colors_2,\n",
    "    colormap=(\"red\", \"yellow\", \"green\"),\n",
    "    weight=10,\n",
    ").add_to(m)\n",
    "\n",
    "m.save('overlay_map.html')"
   ],
   "metadata": {
    "collapsed": false,
    "ExecuteTime": {
     "end_time": "2024-01-12T16:58:52.765431Z",
     "start_time": "2024-01-12T16:58:52.734970Z"
    }
   },
   "id": "521507579d7a0550"
  },
  {
   "cell_type": "code",
   "execution_count": 2,
   "outputs": [],
   "source": [],
   "metadata": {
    "collapsed": false,
    "ExecuteTime": {
     "end_time": "2024-01-12T16:32:41.206537Z",
     "start_time": "2024-01-12T16:32:41.195296Z"
    }
   },
   "id": "15468c6267c54d32"
  },
  {
   "cell_type": "code",
   "execution_count": 16,
   "outputs": [],
   "source": [],
   "metadata": {
    "collapsed": false,
    "ExecuteTime": {
     "end_time": "2024-01-12T16:45:42.476924Z",
     "start_time": "2024-01-12T16:45:42.449261Z"
    }
   },
   "id": "9b34a15fdc3e443c"
  },
  {
   "cell_type": "code",
   "execution_count": 16,
   "outputs": [],
   "source": [],
   "metadata": {
    "collapsed": false,
    "ExecuteTime": {
     "end_time": "2024-01-12T16:45:43.767091Z",
     "start_time": "2024-01-12T16:45:43.756865Z"
    }
   },
   "id": "9964b94a5393e28"
  },
  {
   "cell_type": "code",
   "execution_count": 16,
   "outputs": [],
   "source": [],
   "metadata": {
    "collapsed": false,
    "ExecuteTime": {
     "end_time": "2024-01-12T16:45:44.680795Z",
     "start_time": "2024-01-12T16:45:44.672237Z"
    }
   },
   "id": "f32231d9f4e359c0"
  },
  {
   "cell_type": "code",
   "execution_count": null,
   "outputs": [],
   "source": [],
   "metadata": {
    "collapsed": false
   },
   "id": "c5eedfb8a5778ea9"
  }
 ],
 "metadata": {
  "kernelspec": {
   "display_name": "Python 3",
   "language": "python",
   "name": "python3"
  },
  "language_info": {
   "codemirror_mode": {
    "name": "ipython",
    "version": 2
   },
   "file_extension": ".py",
   "mimetype": "text/x-python",
   "name": "python",
   "nbconvert_exporter": "python",
   "pygments_lexer": "ipython2",
   "version": "2.7.6"
  }
 },
 "nbformat": 4,
 "nbformat_minor": 5
}

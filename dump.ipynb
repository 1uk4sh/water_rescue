{
 "cells": [
  {
   "cell_type": "code",
   "execution_count": 1,
   "id": "initial_id",
   "metadata": {
    "collapsed": true,
    "ExecuteTime": {
     "end_time": "2024-01-12T14:57:51.248664Z",
     "start_time": "2024-01-12T14:57:51.220585Z"
    }
   },
   "outputs": [],
   "source": []
  },
  {
   "cell_type": "code",
   "execution_count": 8,
   "outputs": [],
   "source": [
    "\n",
    "WATER_DATA = {\n",
    "    50: 0.95,\n",
    "    75: 1.25,\n",
    "    100: 1.45,\n",
    "    125: 1.61,\n",
    "    150: 1.74,\n",
    "    175: 1.86,\n",
    "    200: 1.96,\n",
    "    225: 2.06,\n",
    "    250: 2.14,\n",
    "    275: 2.22,\n",
    "    300: 2.3,\n",
    "    325: 2.37,\n",
    "    350: 2.43\n",
    "}\n",
    "\n",
    "def get_next_level(target_level: int):\n",
    "    for level in WATER_DATA.keys():\n",
    "        if target_level < level:\n",
    "            return level\n",
    "        \n",
    "        \n",
    "def get_distance(time: int, level: int):\n",
    "    \"\"\"\n",
    "    Returns distance in meters.\n",
    "    \n",
    "    :param time: in seconds\n",
    "    :param level: in cm\n",
    "    \"\"\"\n",
    "    if level not in WATER_DATA.keys():\n",
    "        level = get_next_level(target_level=level)\n",
    "        \n",
    "    return WATER_DATA[level] * time"
   ],
   "metadata": {
    "collapsed": false,
    "ExecuteTime": {
     "end_time": "2024-01-12T15:14:28.053338Z",
     "start_time": "2024-01-12T15:14:28.037263Z"
    }
   },
   "id": "b76d0c9e9d09fae4"
  },
  {
   "cell_type": "code",
   "execution_count": 8,
   "outputs": [],
   "source": [],
   "metadata": {
    "collapsed": false,
    "ExecuteTime": {
     "end_time": "2024-01-12T15:14:30.525923Z",
     "start_time": "2024-01-12T15:14:30.512425Z"
    }
   },
   "id": "a99afc7f310f3fc0"
  },
  {
   "cell_type": "code",
   "execution_count": 9,
   "outputs": [
    {
     "data": {
      "text/plain": "100"
     },
     "execution_count": 9,
     "metadata": {},
     "output_type": "execute_result"
    }
   ],
   "source": [
    "get_next_level(80)"
   ],
   "metadata": {
    "collapsed": false,
    "ExecuteTime": {
     "end_time": "2024-01-12T15:14:38.199838Z",
     "start_time": "2024-01-12T15:14:38.189266Z"
    }
   },
   "id": "908f19025d6337bf"
  },
  {
   "cell_type": "code",
   "execution_count": 15,
   "outputs": [],
   "source": [
    "import json\n",
    "\n",
    "with open(\"isar.json\", \"r\") as file:\n",
    "    isar_polygon = json.load(file)"
   ],
   "metadata": {
    "collapsed": false,
    "ExecuteTime": {
     "end_time": "2024-01-12T15:30:09.050694Z",
     "start_time": "2024-01-12T15:30:09.036151Z"
    }
   },
   "id": "da332f0c2d5cd848"
  },
  {
   "cell_type": "code",
   "execution_count": 16,
   "outputs": [
    {
     "data": {
      "text/plain": "{'coordinates': [[11.585179526948508, 48.1323623295315],\n  [11.585803127646756, 48.1320246739493],\n  [11.588520725951184, 48.13481161038135],\n  [11.590575495401794, 48.137045474015764],\n  [11.592630179689564, 48.13837245424466],\n  [11.59521521222419, 48.14058404750094],\n  [11.59673816524537, 48.14474158489773],\n  [11.597130409398119, 48.14755020184302],\n  [11.611370908678111, 48.16231854228997],\n  [11.609946858750448, 48.16283665248403],\n  [11.596746166989817, 48.14799449871316],\n  [11.593598029276961, 48.13959317928672],\n  [11.590051345425707, 48.137200348940894],\n  [11.585179526948508, 48.1323623295315]]}"
     },
     "execution_count": 16,
     "metadata": {},
     "output_type": "execute_result"
    }
   ],
   "source": [
    "isar_polygon"
   ],
   "metadata": {
    "collapsed": false,
    "ExecuteTime": {
     "end_time": "2024-01-12T15:30:09.190235Z",
     "start_time": "2024-01-12T15:30:09.176814Z"
    }
   },
   "id": "1cf4c503989843a"
  },
  {
   "cell_type": "code",
   "execution_count": 27,
   "outputs": [],
   "source": [],
   "metadata": {
    "collapsed": false,
    "ExecuteTime": {
     "end_time": "2024-01-12T15:43:48.931202Z",
     "start_time": "2024-01-12T15:43:48.921543Z"
    }
   },
   "id": "d2fd85a66a063b54"
  },
  {
   "cell_type": "code",
   "execution_count": 55,
   "outputs": [],
   "source": [
    "import folium\n",
    "\n",
    "# Beispiel-Koordinaten für ein Overlay\n",
    "overlay_coordinates =  [(48.1323623295315, 11.585179526948508),\n",
    " (48.1320246739493, 11.585803127646756),\n",
    " (48.13481161038135, 11.588520725951184),\n",
    " (48.137045474015764, 11.590575495401794),\n",
    " (48.13837245424466, 11.592630179689564),\n",
    " (48.14058404750094, 11.59521521222419),\n",
    " (48.14474158489773, 11.59673816524537),\n",
    " (48.14755020184302, 11.597130409398119),\n",
    " (48.16231854228997, 11.611370908678111),\n",
    " (48.16283665248403, 11.609946858750448),\n",
    " (48.14799449871316, 11.596746166989817),\n",
    " (48.13959317928672, 11.593598029276961),\n",
    " (48.137200348940894, 11.590051345425707),\n",
    " (48.1323623295315, 11.585179526948508)]\n",
    "\n",
    "# Mittelpunkt der Karte\n",
    "center = [48.137400361036555, 11.57670136034838]\n",
    "\n",
    "# Karte erstellen\n",
    "m = folium.Map(location=center, zoom_start=8)\n",
    "\n",
    "# Overlay als Polygon hinzufügen\n",
    "folium.Polygon(locations=overlay_coordinates, color='red', fill=True, fill_color='red', fill_opacity=0.5).add_to(m)\n",
    "\n",
    "# Karte anzeigen\n",
    "m.save('overlay_map.html')\n"
   ],
   "metadata": {
    "collapsed": false,
    "ExecuteTime": {
     "end_time": "2024-01-12T16:12:49.894629Z",
     "start_time": "2024-01-12T16:12:49.869752Z"
    }
   },
   "id": "d06f2ea2d0738bcc"
  },
  {
   "cell_type": "code",
   "execution_count": 56,
   "outputs": [],
   "source": [
    "test = []\n",
    "\n",
    "\n",
    "coords = [\n",
    "     [\n",
    "            11.563219494455495,\n",
    "            48.12028654663379\n",
    "          ],\n",
    "          [\n",
    "            11.579148926925512,\n",
    "            48.128802243598244\n",
    "          ],\n",
    "          [\n",
    "            11.582235994141655,\n",
    "            48.130281668373584\n",
    "          ],\n",
    "        [\n",
    "            11.58218541254277,\n",
    "            48.13027511402706\n",
    "          ],\n",
    "          [\n",
    "            11.58562796828366,\n",
    "            48.13227735340459\n",
    "          ],\n",
    "    [\n",
    "            11.58562792025478,\n",
    "            48.13224344500233\n",
    "          ],\n",
    "          [\n",
    "            11.589832756193857,\n",
    "            48.13660871553367\n",
    "          ],\n",
    "     [\n",
    "            11.589835594935664,\n",
    "            48.136617710051155\n",
    "          ],\n",
    "          [\n",
    "            11.591745187737075,\n",
    "            48.138083789551445\n",
    "          ],\n",
    "    [\n",
    "            11.591753384183448,\n",
    "            48.13810982513553\n",
    "          ],\n",
    "          [\n",
    "            11.593629178881258,\n",
    "            48.139282657998024\n",
    "          ],\n",
    "    [\n",
    "            11.593646326731971,\n",
    "            48.139282735096344\n",
    "          ],\n",
    "          [\n",
    "            11.595167241351675,\n",
    "            48.14152683098388\n",
    "          ],\n",
    "    [\n",
    "            11.595167244744204,\n",
    "            48.14154832088116\n",
    "          ],\n",
    "          [\n",
    "            11.596755755570086,\n",
    "            48.146577443708395\n",
    "          ],\n",
    "     [\n",
    "            11.596738856960854,\n",
    "            48.146566165840284\n",
    "          ],\n",
    "          [\n",
    "            11.596874049371394,\n",
    "            48.14758095172817\n",
    "          ],\n",
    "          [\n",
    "            11.600236960587154,\n",
    "            48.15109872079631\n",
    "          ],\n",
    "     [\n",
    "            11.60024890662308,\n",
    "            48.15113466019213\n",
    "          ],\n",
    "          [\n",
    "            11.605772147832766,\n",
    "            48.15728274226785\n",
    "          ],\n",
    "          [\n",
    "            11.606113471727383,\n",
    "            48.15767602884472\n",
    "          ],\n",
    "     [\n",
    "            11.606106052181929,\n",
    "            48.157675963584296\n",
    "          ],\n",
    "          [\n",
    "            11.607120183045765,\n",
    "            48.15874925001003\n",
    "          ],\n",
    "          [\n",
    "            11.61059351607338,\n",
    "            48.16247529341254\n",
    "          ],\n",
    "          [\n",
    "            11.614580297264297,\n",
    "            48.166789773679284\n",
    "          ],\n",
    "          [\n",
    "            11.616260071855294,\n",
    "            48.16876594323054\n",
    "          ]\n",
    "]\n",
    "\n",
    "for x in overlay_coordinates:\n",
    "    test.append((x[1], x[0]))"
   ],
   "metadata": {
    "collapsed": false,
    "ExecuteTime": {
     "end_time": "2024-01-12T16:12:50.352305Z",
     "start_time": "2024-01-12T16:12:50.339847Z"
    }
   },
   "id": "87edadd420a8452"
  },
  {
   "cell_type": "code",
   "execution_count": 57,
   "outputs": [
    {
     "data": {
      "text/plain": "[(11.585179526948508, 48.1323623295315),\n (11.585803127646756, 48.1320246739493),\n (11.588520725951184, 48.13481161038135),\n (11.590575495401794, 48.137045474015764),\n (11.592630179689564, 48.13837245424466),\n (11.59521521222419, 48.14058404750094),\n (11.59673816524537, 48.14474158489773),\n (11.597130409398119, 48.14755020184302),\n (11.611370908678111, 48.16231854228997),\n (11.609946858750448, 48.16283665248403),\n (11.596746166989817, 48.14799449871316),\n (11.593598029276961, 48.13959317928672),\n (11.590051345425707, 48.137200348940894),\n (11.585179526948508, 48.1323623295315)]"
     },
     "execution_count": 57,
     "metadata": {},
     "output_type": "execute_result"
    }
   ],
   "source": [
    "test"
   ],
   "metadata": {
    "collapsed": false,
    "ExecuteTime": {
     "end_time": "2024-01-12T16:12:50.969473Z",
     "start_time": "2024-01-12T16:12:50.954088Z"
    }
   },
   "id": "c8890576d4552227"
  },
  {
   "cell_type": "code",
   "execution_count": 66,
   "outputs": [],
   "source": [
    "import folium\n",
    "center = [48.11043185557568, 11.556708643303125]\n",
    "coords = [(48.12028654663379, 11.563219494455495),\n",
    " (48.128802243598244, 11.579148926925512),\n",
    " (48.130281668373584, 11.582235994141655),\n",
    " (48.13027511402706, 11.58218541254277),\n",
    " (48.13227735340459, 11.58562796828366),\n",
    " (48.13224344500233, 11.58562792025478),\n",
    " (48.13660871553367, 11.589832756193857),\n",
    " (48.136617710051155, 11.589835594935664),\n",
    " (48.138083789551445, 11.591745187737075),\n",
    " (48.13810982513553, 11.591753384183448),\n",
    " (48.139282657998024, 11.593629178881258),\n",
    " (48.139282735096344, 11.593646326731971),\n",
    " (48.14152683098388, 11.595167241351675),\n",
    " (48.14154832088116, 11.595167244744204),\n",
    " (48.146577443708395, 11.596755755570086),\n",
    " (48.146566165840284, 11.596738856960854),\n",
    " (48.14758095172817, 11.596874049371394),\n",
    " (48.15109872079631, 11.600236960587154),\n",
    " (48.15113466019213, 11.60024890662308),\n",
    " (48.15728274226785, 11.605772147832766),\n",
    " (48.15767602884472, 11.606113471727383),\n",
    " (48.157675963584296, 11.606106052181929),\n",
    " (48.15874925001003, 11.607120183045765),\n",
    " (48.16247529341254, 11.61059351607338),\n",
    " (48.166789773679284, 11.614580297264297),\n",
    " (48.16876594323054, 11.616260071855294)]\n",
    "\n",
    "sichtung = [48.13129617331808, 11.5841440092276]\n",
    "end = [48.12856025477495, 11.578522386020836]\n",
    "\n",
    "\n",
    "# test.append(sichtung)\n",
    "\n",
    "# Karte erstellen\n",
    "m = folium.Map(location=center, zoom_start=14)\n",
    "colors = [i for i in range(7)]\n",
    "\n",
    "color_line = folium.ColorLine(\n",
    "    positions=coords,\n",
    "    colors=colors,\n",
    "    colormap=[\"y\", \"orange\", \"r\"],\n",
    "    weight=10,\n",
    ").add_to(m)\n",
    "\n",
    "m.save('overlay_map.html')"
   ],
   "metadata": {
    "collapsed": false,
    "ExecuteTime": {
     "end_time": "2024-01-12T16:19:47.037429Z",
     "start_time": "2024-01-12T16:19:46.972803Z"
    }
   },
   "id": "521507579d7a0550"
  },
  {
   "cell_type": "code",
   "execution_count": 68,
   "outputs": [],
   "source": [
    "strecke = []\n",
    "strecke.append(sichtung)\n",
    "for coord in coords:\n",
    "    if :\n",
    "        strecke.append(coord)\n",
    "        \n",
    "strecke.append(end)"
   ],
   "metadata": {
    "collapsed": false,
    "ExecuteTime": {
     "end_time": "2024-01-12T16:20:14.947912Z",
     "start_time": "2024-01-12T16:20:14.939144Z"
    }
   },
   "id": "15468c6267c54d32"
  },
  {
   "cell_type": "code",
   "execution_count": 70,
   "outputs": [
    {
     "data": {
      "text/plain": "[[48.13129617331808, 11.5841440092276],\n [48.12856025477495, 11.578522386020836]]"
     },
     "execution_count": 70,
     "metadata": {},
     "output_type": "execute_result"
    }
   ],
   "source": [
    "strecke"
   ],
   "metadata": {
    "collapsed": false,
    "ExecuteTime": {
     "end_time": "2024-01-12T16:20:20.424394Z",
     "start_time": "2024-01-12T16:20:20.408922Z"
    }
   },
   "id": "9b34a15fdc3e443c"
  },
  {
   "cell_type": "code",
   "execution_count": null,
   "outputs": [],
   "source": [],
   "metadata": {
    "collapsed": false
   },
   "id": "9964b94a5393e28"
  }
 ],
 "metadata": {
  "kernelspec": {
   "display_name": "Python 3",
   "language": "python",
   "name": "python3"
  },
  "language_info": {
   "codemirror_mode": {
    "name": "ipython",
    "version": 2
   },
   "file_extension": ".py",
   "mimetype": "text/x-python",
   "name": "python",
   "nbconvert_exporter": "python",
   "pygments_lexer": "ipython2",
   "version": "2.7.6"
  }
 },
 "nbformat": 4,
 "nbformat_minor": 5
}
